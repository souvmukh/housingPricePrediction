{
 "cells": [
  {
   "cell_type": "code",
   "execution_count": 83,
   "metadata": {},
   "outputs": [],
   "source": [
    "import numpy as np\n",
    "from sklearn.linear_model import LinearRegression\n",
    "import pandas as pd\n",
    "from sklearn.preprocessing import StandardScaler, PolynomialFeatures\n",
    "from sklearn.metrics import mean_squared_error, r2_score\n",
    "from sklearn.model_selection import train_test_split"
   ]
  },
  {
   "cell_type": "code",
   "execution_count": 78,
   "metadata": {},
   "outputs": [
    {
     "name": "stdout",
     "output_type": "stream",
     "text": [
      "    SquareFeet  Bedrooms  Bathrooms Neighborhood  YearBuilt          Price\n",
      "0         2126         4          1        Rural       1969  215355.283618\n",
      "1         2459         3          2        Rural       1980  195014.221626\n",
      "2         1860         2          1       Suburb       1970  306891.012076\n",
      "3         2294         2          1        Urban       1996  206786.787153\n",
      "4         2130         5          2       Suburb       2001  272436.239065\n",
      "5         2095         2          3       Suburb       2020  198208.803907\n",
      "6         2724         2          1       Suburb       1993  343429.319110\n",
      "7         2044         4          3        Rural       1957  184992.321268\n",
      "8         2638         4          3        Urban       1959  377998.588152\n",
      "9         1121         5          2        Urban       2004   95961.926014\n",
      "10        1466         5          3       Suburb       1951  191113.768679\n",
      "11        2238         3          3       Suburb       1987  253358.645002\n"
     ]
    }
   ],
   "source": [
    "df = pd.read_csv(\"housing_price_dataset.csv\")\n",
    "print(df.head(12))"
   ]
  },
  {
   "cell_type": "code",
   "execution_count": 79,
   "metadata": {},
   "outputs": [
    {
     "data": {
      "text/plain": [
       "array(['Rural', 'Suburb', 'Urban'], dtype=object)"
      ]
     },
     "execution_count": 79,
     "metadata": {},
     "output_type": "execute_result"
    }
   ],
   "source": [
    "df.Neighborhood.unique()"
   ]
  },
  {
   "cell_type": "code",
   "execution_count": 80,
   "metadata": {},
   "outputs": [
    {
     "name": "stdout",
     "output_type": "stream",
     "text": [
      "50000\n"
     ]
    }
   ],
   "source": [
    "count = 0\n",
    "for index,row in df.iterrows():\n",
    "    if row['Neighborhood'] != None:\n",
    "        count += 1\n",
    "print(count)"
   ]
  },
  {
   "cell_type": "code",
   "execution_count": 81,
   "metadata": {},
   "outputs": [],
   "source": [
    "df = df.replace(['Rural'], 1.0)\n",
    "df = df.replace(['Urban'], 0.0)\n",
    "df = df.replace(['Suburb'], -1.0)"
   ]
  },
  {
   "cell_type": "code",
   "execution_count": 82,
   "metadata": {},
   "outputs": [
    {
     "data": {
      "text/html": [
       "<div>\n",
       "<style scoped>\n",
       "    .dataframe tbody tr th:only-of-type {\n",
       "        vertical-align: middle;\n",
       "    }\n",
       "\n",
       "    .dataframe tbody tr th {\n",
       "        vertical-align: top;\n",
       "    }\n",
       "\n",
       "    .dataframe thead th {\n",
       "        text-align: right;\n",
       "    }\n",
       "</style>\n",
       "<table border=\"1\" class=\"dataframe\">\n",
       "  <thead>\n",
       "    <tr style=\"text-align: right;\">\n",
       "      <th></th>\n",
       "      <th>SquareFeet</th>\n",
       "      <th>Bedrooms</th>\n",
       "      <th>Bathrooms</th>\n",
       "      <th>Neighborhood</th>\n",
       "      <th>YearBuilt</th>\n",
       "      <th>Price</th>\n",
       "    </tr>\n",
       "  </thead>\n",
       "  <tbody>\n",
       "    <tr>\n",
       "      <th>SquareFeet</th>\n",
       "      <td>1.000000</td>\n",
       "      <td>-0.002638</td>\n",
       "      <td>-0.003275</td>\n",
       "      <td>0.001054</td>\n",
       "      <td>0.000482</td>\n",
       "      <td>0.750720</td>\n",
       "    </tr>\n",
       "    <tr>\n",
       "      <th>Bedrooms</th>\n",
       "      <td>-0.002638</td>\n",
       "      <td>1.000000</td>\n",
       "      <td>0.007405</td>\n",
       "      <td>0.004723</td>\n",
       "      <td>0.003147</td>\n",
       "      <td>0.072624</td>\n",
       "    </tr>\n",
       "    <tr>\n",
       "      <th>Bathrooms</th>\n",
       "      <td>-0.003275</td>\n",
       "      <td>0.007405</td>\n",
       "      <td>1.000000</td>\n",
       "      <td>-0.004745</td>\n",
       "      <td>0.003748</td>\n",
       "      <td>0.028418</td>\n",
       "    </tr>\n",
       "    <tr>\n",
       "      <th>Neighborhood</th>\n",
       "      <td>0.001054</td>\n",
       "      <td>0.004723</td>\n",
       "      <td>-0.004745</td>\n",
       "      <td>1.000000</td>\n",
       "      <td>-0.003197</td>\n",
       "      <td>0.004643</td>\n",
       "    </tr>\n",
       "    <tr>\n",
       "      <th>YearBuilt</th>\n",
       "      <td>0.000482</td>\n",
       "      <td>0.003147</td>\n",
       "      <td>0.003748</td>\n",
       "      <td>-0.003197</td>\n",
       "      <td>1.000000</td>\n",
       "      <td>-0.002288</td>\n",
       "    </tr>\n",
       "    <tr>\n",
       "      <th>Price</th>\n",
       "      <td>0.750720</td>\n",
       "      <td>0.072624</td>\n",
       "      <td>0.028418</td>\n",
       "      <td>0.004643</td>\n",
       "      <td>-0.002288</td>\n",
       "      <td>1.000000</td>\n",
       "    </tr>\n",
       "  </tbody>\n",
       "</table>\n",
       "</div>"
      ],
      "text/plain": [
       "              SquareFeet  Bedrooms  Bathrooms  Neighborhood  YearBuilt  \\\n",
       "SquareFeet      1.000000 -0.002638  -0.003275      0.001054   0.000482   \n",
       "Bedrooms       -0.002638  1.000000   0.007405      0.004723   0.003147   \n",
       "Bathrooms      -0.003275  0.007405   1.000000     -0.004745   0.003748   \n",
       "Neighborhood    0.001054  0.004723  -0.004745      1.000000  -0.003197   \n",
       "YearBuilt       0.000482  0.003147   0.003748     -0.003197   1.000000   \n",
       "Price           0.750720  0.072624   0.028418      0.004643  -0.002288   \n",
       "\n",
       "                 Price  \n",
       "SquareFeet    0.750720  \n",
       "Bedrooms      0.072624  \n",
       "Bathrooms     0.028418  \n",
       "Neighborhood  0.004643  \n",
       "YearBuilt    -0.002288  \n",
       "Price         1.000000  "
      ]
     },
     "execution_count": 82,
     "metadata": {},
     "output_type": "execute_result"
    }
   ],
   "source": [
    "df.corr()"
   ]
  },
  {
   "cell_type": "code",
   "execution_count": 84,
   "metadata": {},
   "outputs": [],
   "source": [
    "train, test = train_test_split(df, test_size=0.25, random_state=42)"
   ]
  },
  {
   "cell_type": "code",
   "execution_count": 105,
   "metadata": {},
   "outputs": [
    {
     "data": {
      "text/html": [
       "<div>\n",
       "<style scoped>\n",
       "    .dataframe tbody tr th:only-of-type {\n",
       "        vertical-align: middle;\n",
       "    }\n",
       "\n",
       "    .dataframe tbody tr th {\n",
       "        vertical-align: top;\n",
       "    }\n",
       "\n",
       "    .dataframe thead th {\n",
       "        text-align: right;\n",
       "    }\n",
       "</style>\n",
       "<table border=\"1\" class=\"dataframe\">\n",
       "  <thead>\n",
       "    <tr style=\"text-align: right;\">\n",
       "      <th></th>\n",
       "      <th>SquareFeet</th>\n",
       "      <th>Bedrooms</th>\n",
       "      <th>Bathrooms</th>\n",
       "      <th>Neighborhood</th>\n",
       "      <th>YearBuilt</th>\n",
       "    </tr>\n",
       "  </thead>\n",
       "  <tbody>\n",
       "    <tr>\n",
       "      <th>33553</th>\n",
       "      <td>1894</td>\n",
       "      <td>5</td>\n",
       "      <td>1</td>\n",
       "      <td>1.0</td>\n",
       "      <td>1975</td>\n",
       "    </tr>\n",
       "    <tr>\n",
       "      <th>9427</th>\n",
       "      <td>1001</td>\n",
       "      <td>5</td>\n",
       "      <td>3</td>\n",
       "      <td>-1.0</td>\n",
       "      <td>1963</td>\n",
       "    </tr>\n",
       "    <tr>\n",
       "      <th>199</th>\n",
       "      <td>2264</td>\n",
       "      <td>4</td>\n",
       "      <td>3</td>\n",
       "      <td>-1.0</td>\n",
       "      <td>1964</td>\n",
       "    </tr>\n",
       "    <tr>\n",
       "      <th>12447</th>\n",
       "      <td>2299</td>\n",
       "      <td>5</td>\n",
       "      <td>1</td>\n",
       "      <td>-1.0</td>\n",
       "      <td>1999</td>\n",
       "    </tr>\n",
       "    <tr>\n",
       "      <th>39489</th>\n",
       "      <td>2651</td>\n",
       "      <td>2</td>\n",
       "      <td>1</td>\n",
       "      <td>-1.0</td>\n",
       "      <td>1951</td>\n",
       "    </tr>\n",
       "    <tr>\n",
       "      <th>...</th>\n",
       "      <td>...</td>\n",
       "      <td>...</td>\n",
       "      <td>...</td>\n",
       "      <td>...</td>\n",
       "      <td>...</td>\n",
       "    </tr>\n",
       "    <tr>\n",
       "      <th>9771</th>\n",
       "      <td>2094</td>\n",
       "      <td>3</td>\n",
       "      <td>2</td>\n",
       "      <td>1.0</td>\n",
       "      <td>1962</td>\n",
       "    </tr>\n",
       "    <tr>\n",
       "      <th>34737</th>\n",
       "      <td>1343</td>\n",
       "      <td>3</td>\n",
       "      <td>1</td>\n",
       "      <td>-1.0</td>\n",
       "      <td>1950</td>\n",
       "    </tr>\n",
       "    <tr>\n",
       "      <th>30390</th>\n",
       "      <td>1723</td>\n",
       "      <td>4</td>\n",
       "      <td>1</td>\n",
       "      <td>1.0</td>\n",
       "      <td>1981</td>\n",
       "    </tr>\n",
       "    <tr>\n",
       "      <th>6797</th>\n",
       "      <td>1804</td>\n",
       "      <td>5</td>\n",
       "      <td>3</td>\n",
       "      <td>0.0</td>\n",
       "      <td>1984</td>\n",
       "    </tr>\n",
       "    <tr>\n",
       "      <th>37270</th>\n",
       "      <td>1058</td>\n",
       "      <td>2</td>\n",
       "      <td>3</td>\n",
       "      <td>-1.0</td>\n",
       "      <td>2002</td>\n",
       "    </tr>\n",
       "  </tbody>\n",
       "</table>\n",
       "<p>12500 rows × 5 columns</p>\n",
       "</div>"
      ],
      "text/plain": [
       "       SquareFeet  Bedrooms  Bathrooms  Neighborhood  YearBuilt\n",
       "33553        1894         5          1           1.0       1975\n",
       "9427         1001         5          3          -1.0       1963\n",
       "199          2264         4          3          -1.0       1964\n",
       "12447        2299         5          1          -1.0       1999\n",
       "39489        2651         2          1          -1.0       1951\n",
       "...           ...       ...        ...           ...        ...\n",
       "9771         2094         3          2           1.0       1962\n",
       "34737        1343         3          1          -1.0       1950\n",
       "30390        1723         4          1           1.0       1981\n",
       "6797         1804         5          3           0.0       1984\n",
       "37270        1058         2          3          -1.0       2002\n",
       "\n",
       "[12500 rows x 5 columns]"
      ]
     },
     "execution_count": 105,
     "metadata": {},
     "output_type": "execute_result"
    }
   ],
   "source": [
    "x_train = train.iloc[:,0:5]\n",
    "y_train = train.iloc[:,-1]\n",
    "x_test = test.iloc[:,0:5]\n",
    "y_test = test.iloc[:,-1]"
   ]
  },
  {
   "cell_type": "code",
   "execution_count": 110,
   "metadata": {},
   "outputs": [
    {
     "name": "stdout",
     "output_type": "stream",
     "text": [
      "(37500, 5)\n",
      "(12500, 5)\n",
      "[ 2.00715112e+03  3.48456000e+00  1.99056000e+00 -4.40000000e-03\n",
      "  1.98553528e+03]\n",
      "[576.67371499   1.12000072   0.81519991   0.81744764  20.7883803 ]\n"
     ]
    }
   ],
   "source": [
    "scaler = StandardScaler()\n",
    "x_train_scaled = scaler.fit_transform(x_train)\n",
    "x_test_scaled = scaler.fit_transform(x_test)\n",
    "\n",
    "print(x_train_scaled.shape)\n",
    "print(x_test_scaled.shape)\n",
    "\n",
    "print(scaler.mean_)\n",
    "print(scaler.scale_)\n",
    "\n",
    "#print(f\"Computed mean of the training set: {scaler_linear.mean_.squeeze():.2f}\")\n",
    "#print(f\"Computed standard deviation of the training set: {scaler_linear.scale_.squeeze():.2f}\")"
   ]
  },
  {
   "cell_type": "code",
   "execution_count": 115,
   "metadata": {},
   "outputs": [],
   "source": [
    "linear_model = LinearRegression()\n",
    "\n",
    "x_train_val = x_train.values\n",
    "x_test_val = x_test.values\n",
    "\n",
    "linear_model.fit(x_train_scaled, y_train)\n",
    "\n",
    "y_predict_train = linear_model.predict(x_train_scaled)\n",
    "y_predict_test = linear_model.predict(x_test_scaled)"
   ]
  },
  {
   "cell_type": "code",
   "execution_count": 116,
   "metadata": {},
   "outputs": [
    {
     "data": {
      "text/plain": [
       "0.5737004741036544"
      ]
     },
     "execution_count": 116,
     "metadata": {},
     "output_type": "execute_result"
    }
   ],
   "source": [
    "linear_model.score(x_test_scaled, y_test)"
   ]
  },
  {
   "cell_type": "code",
   "execution_count": 120,
   "metadata": {},
   "outputs": [
    {
     "data": {
      "image/png": "[encoded data removed]",
      "text/plain": [
       "<Figure size 640x480 with 1 Axes>"
      ]
     },
     "metadata": {},
     "output_type": "display_data"
    }
   ],
   "source": [
    "import matplotlib.pyplot as plt\n",
    "\n",
    "x_axis = np.arange(1,12501,dtype=int)\n",
    "\n",
    "plt.scatter(y_train,y_predict_train)\n",
    "plt.show()"
   ]
  },
  {
   "cell_type": "code",
   "execution_count": 118,
   "metadata": {},
   "outputs": [
    {
     "data": {
      "text/plain": [
       "0.5737004741036544"
      ]
     },
     "execution_count": 118,
     "metadata": {},
     "output_type": "execute_result"
    }
   ],
   "source": [
    "r2_score(y_true=y_test, y_pred=y_predict_test)"
   ]
  },
  {
   "cell_type": "code",
   "execution_count": 119,
   "metadata": {},
   "outputs": [
    {
     "data": {
      "text/plain": [
       "2458822955.4567"
      ]
     },
     "execution_count": 119,
     "metadata": {},
     "output_type": "execute_result"
    }
   ],
   "source": [
    "mean_squared_error(y_true=y_test, y_pred=y_predict_test) "
   ]
  },
  {
   "cell_type": "code",
   "execution_count": null,
   "metadata": {},
   "outputs": [],
   "source": []
  }
 ],
 "metadata": {
  "kernelspec": {
   "display_name": "base",
   "language": "python",
   "name": "python3"
  },
  "language_info": {
   "codemirror_mode": {
    "name": "ipython",
    "version": 3
   },
   "file_extension": ".py",
   "mimetype": "text/x-python",
   "name": "python",
   "nbconvert_exporter": "python",
   "pygments_lexer": "ipython3",
   "version": "0.0.0"
  }
 },
 "nbformat": 4,
 "nbformat_minor": 2
}
